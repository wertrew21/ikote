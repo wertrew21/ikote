{
  "nbformat": 4,
  "nbformat_minor": 0,
  "metadata": {
    "colab": {
      "name": "2. 그리디 알고리즘.ipynb",
      "provenance": [],
      "collapsed_sections": [],
      "authorship_tag": "ABX9TyNukfVGDWITLU6IqbWuGZ0e",
      "include_colab_link": true
    },
    "kernelspec": {
      "name": "python3",
      "display_name": "Python 3"
    }
  },
  "cells": [
    {
      "cell_type": "markdown",
      "metadata": {
        "id": "view-in-github",
        "colab_type": "text"
      },
      "source": [
        "<a href=\"https://colab.research.google.com/github/wertrew21/ikote/blob/main/2_%EA%B7%B8%EB%A6%AC%EB%94%94_%EC%95%8C%EA%B3%A0%EB%A6%AC%EC%A6%98.ipynb\" target=\"_parent\"><img src=\"https://colab.research.google.com/assets/colab-badge.svg\" alt=\"Open In Colab\"/></a>"
      ]
    },
    {
      "cell_type": "code",
      "metadata": {
        "colab": {
          "base_uri": "https://localhost:8080/"
        },
        "id": "QMeC9EU_sJqb",
        "outputId": "eda47dda-14b6-4fde-ad53-fa9c80e5102a"
      },
      "source": [
        "coins = [500, 100, 50, 10]\n",
        "N = int(input())\n",
        "cnt = 0\n",
        "for coin in coins:\n",
        "    cnt += N // coin\n",
        "    N %= coin\n",
        "print(cnt)"
      ],
      "execution_count": null,
      "outputs": [
        {
          "output_type": "stream",
          "text": [
            "1260\n",
            "6\n"
          ],
          "name": "stdout"
        }
      ]
    },
    {
      "cell_type": "code",
      "metadata": {
        "colab": {
          "base_uri": "https://localhost:8080/"
        },
        "id": "UtSFzlmyvTqz",
        "outputId": "0dee4012-b7a2-46a1-c63c-be307f203a90"
      },
      "source": [
        "N, K = map(int, input().split())\n",
        "cnt = 0\n",
        "\n",
        "while N != 1:\n",
        "    if N%K == 0: N /= K\n",
        "    else: N -= 1\n",
        "    cnt += 1\n",
        "\n",
        "print(cnt)"
      ],
      "execution_count": null,
      "outputs": [
        {
          "output_type": "stream",
          "text": [
            "2 3\n",
            "1\n"
          ],
          "name": "stdout"
        }
      ]
    },
    {
      "cell_type": "code",
      "metadata": {
        "colab": {
          "base_uri": "https://localhost:8080/"
        },
        "id": "aFzEnZwyzSla",
        "outputId": "b33b89a3-59eb-4317-95e9-88057ba8c36b"
      },
      "source": [
        "s = input()\n",
        "a = int(s[0])\n",
        "\n",
        "for _ in s[1:]:\n",
        "    if int(_) >= 2 and a >= 2: a *= int(_)\n",
        "    else: a += int(_)\n",
        "    print(_)\n",
        "print(a)"
      ],
      "execution_count": null,
      "outputs": [
        {
          "output_type": "stream",
          "text": [
            "1\n",
            "1\n"
          ],
          "name": "stdout"
        }
      ]
    },
    {
      "cell_type": "code",
      "metadata": {
        "colab": {
          "base_uri": "https://localhost:8080/"
        },
        "id": "BEnVTwmS467N",
        "outputId": "835717bc-a055-4124-e893-7b1b637f7e6a"
      },
      "source": [
        "n = int(input())\n",
        "fear = list(map(int, input().split()))\n",
        "fear_set = set(fear)\n",
        "cnt = 0\n",
        "\n",
        "for _ in fear_set:\n",
        "    if _ >= fear.count(_):\n",
        "        cnt += 1\n",
        "\n",
        "print(cnt)"
      ],
      "execution_count": null,
      "outputs": [
        {
          "output_type": "stream",
          "text": [
            "5\n",
            "2 3 1 2 2\n",
            "2\n"
          ],
          "name": "stdout"
        }
      ]
    },
    {
      "cell_type": "code",
      "metadata": {
        "colab": {
          "base_uri": "https://localhost:8080/"
        },
        "id": "3u1accS16SS3",
        "outputId": "5562fe88-1ab4-451c-9939-fe04f20e0450"
      },
      "source": [
        "a = [1, 3, 2, 2, 3]\n",
        "set(a)"
      ],
      "execution_count": null,
      "outputs": [
        {
          "output_type": "execute_result",
          "data": {
            "text/plain": [
              "{1, 2, 3}"
            ]
          },
          "metadata": {
            "tags": []
          },
          "execution_count": 36
        }
      ]
    },
    {
      "cell_type": "code",
      "metadata": {
        "colab": {
          "base_uri": "https://localhost:8080/"
        },
        "id": "ew7VZHsd2Np9",
        "outputId": "6e0b36bd-a19e-4848-ec29-587ac4445251"
      },
      "source": [
        "n = int(input())\n",
        "p = input().split()\n",
        "\n",
        "dr = ['L','R','U','D']\n",
        "dy = [-1,  1,  0,  0]\n",
        "dx = [ 0,  0, -1,  1]\n",
        "# [x][y]\n",
        "\n",
        "y, x = 1, 1\n",
        "ny, nx = 1, 1\n",
        "for ivalue in p:\n",
        "    for n in range(len(dr)):\n",
        "        if dr[n] == ivalue:\n",
        "            nx = x + dx[n]\n",
        "            ny = y + dy[n]\n",
        "    if nx == 0 or nx > n or y == 0 or ny > n:\n",
        "        continue\n",
        "    x, y = nx, ny # which means moving to next step, so the 'continue' just above\n",
        "                  # means it keeps the step.\n",
        "\n",
        "print(x, y)"
      ],
      "execution_count": null,
      "outputs": [
        {
          "output_type": "stream",
          "text": [
            "5\n",
            "R R R U D D\n",
            "3 4\n"
          ],
          "name": "stdout"
        }
      ]
    },
    {
      "cell_type": "code",
      "metadata": {
        "colab": {
          "base_uri": "https://localhost:8080/"
        },
        "id": "8tge4QLd-Yh9",
        "outputId": "788120de-cdaa-4402-bb57-e69b6f9e3172"
      },
      "source": [
        "n = int(input())\n",
        "cnt = 0\n",
        "for h in range(n+1):\n",
        "    for m in range(60):\n",
        "        for s in range(60):\n",
        "            #hc = str(h).count('3')\n",
        "            #mc = str(m).count('3')\n",
        "            #sc = str(s).count('3')\n",
        "            #if hc + mc + sc: cnt += 1\n",
        "            if '3' in str(h) + str(m) + str(s):\n",
        "                cnt += 1\n",
        "print(cnt)"
      ],
      "execution_count": null,
      "outputs": [
        {
          "output_type": "stream",
          "text": [
            "5\n",
            "11475\n"
          ],
          "name": "stdout"
        }
      ]
    },
    {
      "cell_type": "code",
      "metadata": {
        "colab": {
          "base_uri": "https://localhost:8080/"
        },
        "id": "_Mi2LxVp_IbA",
        "outputId": "47e744b8-6931-43b7-8ef4-d5ccdeb12192"
      },
      "source": [
        "a = '13'\n",
        "a.count('3')"
      ],
      "execution_count": null,
      "outputs": [
        {
          "output_type": "execute_result",
          "data": {
            "text/plain": [
              "1"
            ]
          },
          "metadata": {
            "tags": []
          },
          "execution_count": 9
        }
      ]
    },
    {
      "cell_type": "markdown",
      "metadata": {
        "id": "wou5R78GIoRM"
      },
      "source": [
        "Chess knight"
      ]
    },
    {
      "cell_type": "code",
      "metadata": {
        "colab": {
          "base_uri": "https://localhost:8080/"
        },
        "id": "8ekGz9jqBEUe",
        "outputId": "9c5fec00-bcd9-4e69-a827-01a07da6d564"
      },
      "source": [
        "ip = input()\n",
        "init_i = ord(ip[0]) - ord('a') + 1\n",
        "init_j = int(ip[1])\n",
        "# init_pos = [ a-h , 1-8 ]\n",
        "\n",
        "init_i += 1\n",
        "init_j += 1\n",
        "# which allows next_i/j over the boundary (  map    = [ 0~11, 0~11 ]\n",
        "#                                          boundary = [  2~9,  2~9 ])\n",
        "\n",
        "#(needless) cs = ['LLU', 'LLD', 'RRU', 'RRD', 'UUL', 'UUR', 'DDL', 'DDR']\n",
        "di = [  -1 ,   +1 ,   -1 ,   +1 ,   -2 ,   -2 ,   +2 ,   +2 ]\n",
        "dj = [  -2 ,   -2 ,   +2 ,   +2 ,   -1,    +1 ,   -1 ,   +1 ]\n",
        "\n",
        "cnt = 0\n",
        "for i in range(len(cs)):\n",
        "    next_i = init_i + di[i]\n",
        "    next_j = init_j + dj[i]\n",
        "    if 2 <= next_i <= 9 and 2 <= next_j <= 9:\n",
        "        cnt += 1\n",
        "\n",
        "print(cnt)"
      ],
      "execution_count": null,
      "outputs": [
        {
          "output_type": "stream",
          "text": [
            "a1\n",
            "2\n"
          ],
          "name": "stdout"
        }
      ]
    },
    {
      "cell_type": "markdown",
      "metadata": {
        "id": "HybqjS7PIjI9"
      },
      "source": [
        "Chess knight [2]"
      ]
    },
    {
      "cell_type": "code",
      "metadata": {
        "colab": {
          "base_uri": "https://localhost:8080/"
        },
        "id": "0HH5MnA9C7Ux",
        "outputId": "a84df0b9-c33d-476b-c222-f3696b93d7aa"
      },
      "source": [
        "ip = input()\n",
        "init_i = ord(ip[0]) - ord('a') + 1\n",
        "init_j = int(ip[1])\n",
        "# init_pos = [ a-h , 1-8 ]\n",
        "\n",
        "#(needless) cs = ['LLU', 'LLD', 'RRU', 'RRD', 'UUL', 'UUR', 'DDL', 'DDR']\n",
        "# di = [  -1 ,   +1 ,   -1 ,   +1 ,   -2 ,   -2 ,   +2 ,   +2 ]\n",
        "# dj = [  -2 ,   -2 ,   +2 ,   +2 ,   -1,    +1 ,   -1 ,   +1 ]\n",
        "steps = [(-2, -1), (-1, -2), (1, -2), (2, -1), (2, 1), (1, 2), (-1, 2), (-2, 1)]\n",
        "\n",
        "cnt = 0\n",
        "for step in steps:\n",
        "    next_i = init_i + step[0]\n",
        "    next_j = init_j + step[1]\n",
        "    if 1 <= next_i <= 8 and 1 <= next_j <= 8:\n",
        "        cnt += 1\n",
        "\n",
        "print(cnt)"
      ],
      "execution_count": null,
      "outputs": [
        {
          "output_type": "stream",
          "text": [
            "a1\n",
            "2\n"
          ],
          "name": "stdout"
        }
      ]
    },
    {
      "cell_type": "markdown",
      "metadata": {
        "id": "oSqaI373PvYJ"
      },
      "source": [
        "Sort a string in alphabetical order + sum"
      ]
    },
    {
      "cell_type": "code",
      "metadata": {
        "colab": {
          "base_uri": "https://localhost:8080/"
        },
        "id": "GkjD7LnCI3Ue",
        "outputId": "c44d5366-d8cc-48a1-bc95-d826250f4a09"
      },
      "source": [
        "sl = list(input())\n",
        "sl.sort()\n",
        "alp = ''\n",
        "num = 0\n",
        "for char in sl:\n",
        "    if ord(char) >= 65: alp += char\n",
        "    else: num += int(char)\n",
        "\n",
        "print(alp + str(num))"
      ],
      "execution_count": null,
      "outputs": [
        {
          "output_type": "stream",
          "text": [
            "K1KA5CB7\n",
            "ABCKK13\n"
          ],
          "name": "stdout"
        }
      ]
    },
    {
      "cell_type": "code",
      "metadata": {
        "colab": {
          "base_uri": "https://localhost:8080/"
        },
        "id": "6FD2GQfRKGi_",
        "outputId": "ed070dec-3c02-4f08-f6fd-23f020d027b9"
      },
      "source": [
        "print(ord('1'), ord('A'))"
      ],
      "execution_count": null,
      "outputs": [
        {
          "output_type": "stream",
          "text": [
            "49 65\n"
          ],
          "name": "stdout"
        }
      ]
    },
    {
      "cell_type": "code",
      "metadata": {
        "colab": {
          "base_uri": "https://localhost:8080/"
        },
        "id": "rmWLK8QXKnXA",
        "outputId": "50c41b26-e19b-48ed-a8f2-0047d98b845f"
      },
      "source": [
        "import re\n",
        "p_alp = re.compile('[A-Z]')\n",
        "p_num = re.compile('[0-9]')\n",
        "\n",
        "s = input()\n",
        "alp = p_alp.findall(s)\n",
        "num = p_num.findall(s)\n",
        "result = ''\n",
        "alp.sort()\n",
        "for _ in alp:\n",
        "    result += _\n",
        "\n",
        "sum = 0\n",
        "for _ in num:\n",
        "    sum += int(_)\n",
        "\n",
        "print(result + str(sum))"
      ],
      "execution_count": null,
      "outputs": [
        {
          "output_type": "stream",
          "text": [
            "K1KA5CB7\n",
            "ABCKK13\n"
          ],
          "name": "stdout"
        }
      ]
    }
  ]
}
