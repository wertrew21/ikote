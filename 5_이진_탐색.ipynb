{
  "nbformat": 4,
  "nbformat_minor": 0,
  "metadata": {
    "colab": {
      "name": "5. 이진 탐색",
      "provenance": [],
      "collapsed_sections": [],
      "authorship_tag": "ABX9TyPXnnl5IK6j2Z3XXBA0f+NL",
      "include_colab_link": true
    },
    "kernelspec": {
      "name": "python3",
      "display_name": "Python 3"
    }
  },
  "cells": [
    {
      "cell_type": "markdown",
      "metadata": {
        "id": "view-in-github",
        "colab_type": "text"
      },
      "source": [
        "<a href=\"https://colab.research.google.com/github/wertrew21/programming-practice/blob/ikote/5_%EC%9D%B4%EC%A7%84_%ED%83%90%EC%83%89.ipynb\" target=\"_parent\"><img src=\"https://colab.research.google.com/assets/colab-badge.svg\" alt=\"Open In Colab\"/></a>"
      ]
    },
    {
      "cell_type": "markdown",
      "metadata": {
        "id": "S8zucVspf_U0"
      },
      "source": [
        "이진 탐색이란 탐색 범위를 절반씩 줄이며 목표값을 찾는 방법.\n",
        "\n",
        "- 이진 탐색의 시간 복잡도\n",
        ": 단계마다 탐색 범위를 2로 나누는 것과 동일 \\\n",
        "= 연산 횟수는 log_2(N)에 비례.\n",
        "\n",
        "ex) 초기 데이터 개수 32 --> 1단계 16개 --> 2단계 8개\n",
        "--> ... --> 5단계 1개. \\\n",
        "32 = 2^5. 그러므로 단계수(= 시간)는 데이터 개수의 로그값에 비례."
      ]
    },
    {
      "cell_type": "code",
      "metadata": {
        "id": "IOwHc8atfGFy"
      },
      "source": [
        "# 이진 탐색 소스코드: 재귀적 구현\n",
        "\n",
        "def binary_search(array, target, start, end):\n",
        "    if start > end:\n",
        "        return None\n",
        "    mid = (start + end) // 2\n",
        "    # 찾은 경우 중간점 인덱스 반환\n",
        "    if array[mid] == target:\n",
        "        return mid\n",
        "    # 중간점의 값보다 찾고자 하는 값이 작은 경우 왼쪽 확인\n",
        "    elif array[mid] > target:\n",
        "        return binary_search(array, target, start, mid - 1)\n",
        "    # 중간점의 값보다 찾고자 하는 값이 큰 경우 오른쪽 확인\n",
        "    else:\n",
        "        return binary_search(array, target, mid + 1, end)\n",
        "\n",
        "# n(원소의 개수)과 target(찾고자 하는 값) 입력\n",
        "n, target = map(int, input().split())\n",
        "# 전체 원소 입력 받기\n",
        "array = list(map(int, input().split()))\n",
        "\n",
        "# 이진 탐색 수행 결과 출력\n",
        "result = binary_search(array, target, 0, n - 1)\n",
        "if result == None:\n",
        "    print(\"원소가 존재하지 않습니다.\")\n",
        "else:\n",
        "    print(result + 1)"
      ],
      "execution_count": null,
      "outputs": []
    },
    {
      "cell_type": "code",
      "metadata": {
        "colab": {
          "base_uri": "https://localhost:8080/"
        },
        "id": "ZtOg863kjyPC",
        "outputId": "0a5953b1-02c8-4779-ff4d-3306c26a432e"
      },
      "source": [
        "# 이진 탐색 소스코드: 반복적 구현\n",
        "\n",
        "def binary_search(array, target, start, end):\n",
        "    while start <= end:\n",
        "        mid = (start + end) // 2\n",
        "        if array[mid] == target:\n",
        "            return mid\n",
        "        elif array[mid] > target:\n",
        "            end = mid - 1\n",
        "        else:\n",
        "            start = mid + 1\n",
        "    return None\n",
        "\n",
        "n, target = map(int, input().split())\n",
        "array = list(map(int, input().split()))\n",
        "\n",
        "result = binary_search(array, target, 0, n - 1)\n",
        "if result == None:\n",
        "    print(\"원소가 존재하지 않습니다.\")\n",
        "else:\n",
        "    print(result + 1)"
      ],
      "execution_count": null,
      "outputs": [
        {
          "output_type": "stream",
          "text": [
            "10 7\n",
            "1 3 5 7 9 11 13 15 17 19\n",
            "4\n"
          ],
          "name": "stdout"
        }
      ]
    },
    {
      "cell_type": "markdown",
      "metadata": {
        "id": "TlU_Ve_Clh7b"
      },
      "source": [
        "- 파이썬 이진 탐색 라이브러리 \\\n",
        "bisect_left(a, x): 정렬된 순서를 유지하면서 배열 a에 x를 삽입할 가장 왼쪽 인덱스를 반환\n",
        "bisect_right(a, x): '' 가장 오른쪽 인덱스를 반환"
      ]
    },
    {
      "cell_type": "code",
      "metadata": {
        "colab": {
          "base_uri": "https://localhost:8080/"
        },
        "id": "DYU9CZ4VmILx",
        "outputId": "f61ec34c-7c50-40c2-8b01-1408227a6cc2"
      },
      "source": [
        "# 값이 특정 범위에 속하는 데이터 개수 구하기\n",
        "from bisect import bisect_left, bisect_right\n",
        "\n",
        "# 값이 [left_value, right_value]인 데이터 개수를 반환하는 함수\n",
        "def count_by_range(a, left_value, right_value):\n",
        "    right_index = bisect_right(a, right_value)\n",
        "    left_index = bisect_left(a, left_value)\n",
        "    return right_index - left_index\n",
        "\n",
        "# 배열 선언\n",
        "a = [1, 2, 3, 3, 3, 3, 4, 4, 8, 9]\n",
        "\n",
        "print(count_by_range(a, 4, 4))\n",
        "print(count_by_range(a, -1, 3))\n",
        "print()\n",
        "print(bisect_left(a, 3))\n",
        "print(bisect_right(a, 3))"
      ],
      "execution_count": 24,
      "outputs": [
        {
          "output_type": "stream",
          "text": [
            "2\n",
            "6\n",
            "\n",
            "2\n",
            "6\n"
          ],
          "name": "stdout"
        }
      ]
    },
    {
      "cell_type": "markdown",
      "metadata": {
        "id": "7FAuheZzmvle"
      },
      "source": [
        "- 파라메트릭 서치 Parametric search \\\n",
        ": 최적화 문제를 결정 문제(Y/N)로 바꾸어 해결하는 기법 \\\n",
        "ex) 특정한 조건을 만족하는 가장 알맞은 값을 빠르게 찾는 최적화 문제"
      ]
    },
    {
      "cell_type": "code",
      "metadata": {
        "colab": {
          "base_uri": "https://localhost:8080/"
        },
        "id": "i1oe_CGinWP4",
        "outputId": "cb64efb3-f26c-4384-f17d-663651cb8b4e"
      },
      "source": [
        "# <문제> 떡볶이 떡 만들기\n",
        "import numpy as np\n",
        "\n",
        "# 이진 탐색 소스코드: 반복적 구현\n",
        "# 이 문제는 절단기 높이에 대한 이진탐색.\n",
        "def binary_search(a, m, start, end):\n",
        "    while start <= end:\n",
        "        mid = (start + end) // 2\n",
        "        a0 = a - mid\n",
        "        l = 0\n",
        "        for elm in a0:\n",
        "            if elm > 0:\n",
        "                l += elm\n",
        "        # 떡이 최소로 잘렸을 때(= 절단기 높이 최대)\n",
        "        if l == m:\n",
        "            return mid\n",
        "        # 떡이 더 잘렸을 때(= 절단기 높이를 높인다)\n",
        "        elif l > m:\n",
        "            start = mid + 1\n",
        "        # 떡이 덜 잘렸을 때(= 절단기 높이를 낮춘다)\n",
        "        else:\n",
        "            end = mid - 1\n",
        "    return None\n",
        "\n",
        "n, m = map(int, input().split())\n",
        "a = np.array(list(map(int, input().split())))\n",
        "a.sort()\n",
        "a0 = np.array([_ for _ in a])\n",
        "\n",
        "result = binary_search(a, m, 0, max(a))\n",
        "print(result)"
      ],
      "execution_count": 23,
      "outputs": [
        {
          "output_type": "stream",
          "text": [
            "4 6\n",
            "1 2 3 1000000\n",
            "999994\n"
          ],
          "name": "stdout"
        }
      ]
    },
    {
      "cell_type": "code",
      "metadata": {
        "colab": {
          "base_uri": "https://localhost:8080/"
        },
        "id": "gOW7prmpo4wd",
        "outputId": "cc32e26f-c97d-4b9c-e8b4-eeba0f672fc8"
      },
      "source": [
        "array = list(map(int, input().split()))\n",
        "array.sort()\n",
        "print(array)"
      ],
      "execution_count": null,
      "outputs": [
        {
          "output_type": "stream",
          "text": [
            "2 31 4 1\n",
            "[1, 2, 4, 31]\n"
          ],
          "name": "stdout"
        }
      ]
    },
    {
      "cell_type": "code",
      "metadata": {
        "colab": {
          "base_uri": "https://localhost:8080/"
        },
        "id": "Qh2husfExLhx",
        "outputId": "cf125bbd-18ab-439a-fbdf-dce04db867ec"
      },
      "source": [
        "# 이진 탐색을 이용하지 않는 해법\n",
        "\n",
        "import numpy as np\n",
        "n, m = map(int, input().split())\n",
        "a = np.array(list(map(int, input().split())))\n",
        "\n",
        "a0 = np.array([_ for _ in a])\n",
        "h = 0\n",
        "sum = np.sum(a0)\n",
        "\n",
        "while sum >= m:\n",
        "    sum = 0\n",
        "    h += 1\n",
        "    for _ in range(n):\n",
        "        a0 = a - h\n",
        "    for i in a0:\n",
        "        if i > 0:\n",
        "            sum += i\n",
        "\n",
        "print(h-1)"
      ],
      "execution_count": 15,
      "outputs": [
        {
          "output_type": "stream",
          "text": [
            "4 6\n",
            "19 14 10 17\n",
            "15\n"
          ],
          "name": "stdout"
        }
      ]
    },
    {
      "cell_type": "code",
      "metadata": {
        "colab": {
          "base_uri": "https://localhost:8080/"
        },
        "id": "ymP3QelB3bHf",
        "outputId": "3e66a508-4c67-4ffc-a449-44a4422ab0c1"
      },
      "source": [
        "# <문제> 정렬된 배열에서 특정 수의 개수 구하기: bisect 라이브러리 이용\n",
        "from bisect import bisect_left, bisect_right\n",
        "\n",
        "def count_number(a, x):\n",
        "    if not x in a:\n",
        "        return -1\n",
        "    left = bisect_left(a, x)\n",
        "    right = bisect_right(a, x)\n",
        "    return right - left\n",
        "\n",
        "n, x = map(int, input().split())\n",
        "a = list(map(int, input().split()))\n",
        "result = count_number(a, x)\n",
        "print(result)"
      ],
      "execution_count": 38,
      "outputs": [
        {
          "output_type": "stream",
          "text": [
            "7 2\n",
            "1 3 3 3 4 4 5\n",
            "-1\n"
          ],
          "name": "stdout"
        }
      ]
    },
    {
      "cell_type": "code",
      "metadata": {
        "id": "tbBsWLCZDRAD"
      },
      "source": [
        "# <문제> 정렬된 배열에서 특정 수의 개수 구하기: 이진 탐색 함수 이용\n",
        "def count_number(a, x, start, end):\n",
        "    mid = (start + end) // 2\n",
        "    "
      ],
      "execution_count": null,
      "outputs": []
    },
    {
      "cell_type": "code",
      "metadata": {
        "colab": {
          "base_uri": "https://localhost:8080/"
        },
        "id": "ciXNcBYx_rPD",
        "outputId": "ba060e18-5481-41fa-8e78-a1e5dd17dd48"
      },
      "source": [
        "a = [1, 2, 3]\n",
        "print(bisect_left(a, 0), bisect_right(a, 0))\n",
        "if not 1 in a:\n",
        "    print('No such an element')"
      ],
      "execution_count": 35,
      "outputs": [
        {
          "output_type": "stream",
          "text": [
            "0 0\n"
          ],
          "name": "stdout"
        }
      ]
    }
  ]
}