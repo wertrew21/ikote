{
  "nbformat": 4,
  "nbformat_minor": 0,
  "metadata": {
    "colab": {
      "name": "Deep Learning from Scratch S4.ipynb",
      "provenance": [],
      "collapsed_sections": [],
      "mount_file_id": "1eMNvrDGsqw4g2KzozVeMmD6xdtcaXVp2",
      "authorship_tag": "ABX9TyPjfOYqY5JWcwpX+ya3AuA1",
      "include_colab_link": true
    },
    "kernelspec": {
      "name": "python3",
      "display_name": "Python 3"
    }
  },
  "cells": [
    {
      "cell_type": "markdown",
      "metadata": {
        "id": "view-in-github",
        "colab_type": "text"
      },
      "source": [
        "<a href=\"https://colab.research.google.com/github/wertrew21/programming-practice/blob/DLfS/Deep_Learning_from_Scratch_S4.ipynb\" target=\"_parent\"><img src=\"https://colab.research.google.com/assets/colab-badge.svg\" alt=\"Open In Colab\"/></a>"
      ]
    },
    {
      "cell_type": "markdown",
      "metadata": {
        "id": "EjxkOIhGklPU"
      },
      "source": [
        "# 4. 신경망 학습"
      ]
    },
    {
      "cell_type": "markdown",
      "metadata": {
        "id": "dVNdXvfUkcQW"
      },
      "source": [
        "## 4.2. 손실 함수 loss function\n",
        "**신경망 학습**에서 최적의 매개변수 값을 탐색할 때 사용하는 **지표**."
      ]
    },
    {
      "cell_type": "markdown",
      "metadata": {
        "id": "LbQDdTLTla-M"
      },
      "source": [
        "### 4.2.1. 오차제곱합 SSE: Sum of Squares for Error\n",
        "가장 많이 쓰이는 손실 함수."
      ]
    },
    {
      "cell_type": "code",
      "metadata": {
        "colab": {
          "base_uri": "https://localhost:8080/"
        },
        "id": "uZZt9ObFk04Z",
        "outputId": "b9b4f3b3-47e2-4b61-bd71-33485d68a265"
      },
      "source": [
        "import numpy as np\n",
        "\n",
        "# E = 0.5 * sum_k{(y_k - t_k)^2}    <-- The smaller E is, the better.\n",
        "def sum_squares_error(y, t):\n",
        "    return 0.5 * np.sum((y-t)**2)\n",
        "\n",
        "# correct answer for label = 2\n",
        "t = [0, 0, 1, 0, 0, 0, 0, 0, 0, 0]\n",
        "\n",
        "# when estimating '2' has highest possibility\n",
        "y = [0.1, 0.05, 0.6, 0.0, 0.05, 0.1, 0.0, 0.1, 0.0, 0.0]\n",
        "print(sum_squares_error(np.array(y), np.array(t)))\n",
        "\n",
        "# when estimating '7' has highest possibility\n",
        "y = [0.1, 0.05, 0.1, 0.0, 0.05, 0.1, 0.0, 0.6, 0.0, 0.0]\n",
        "print(sum_squares_error(np.array(y), np.array(t)))"
      ],
      "execution_count": 4,
      "outputs": [
        {
          "output_type": "stream",
          "text": [
            "0.09750000000000003\n",
            "0.5975\n"
          ],
          "name": "stdout"
        }
      ]
    },
    {
      "cell_type": "markdown",
      "metadata": {
        "id": "c_4xsJi1p0-9"
      },
      "source": [
        "### 4.2.2. 교차 엔트로피 오차 CEE: cross entropy error"
      ]
    },
    {
      "cell_type": "code",
      "metadata": {
        "colab": {
          "base_uri": "https://localhost:8080/"
        },
        "id": "5E9y0OvkqBOf",
        "outputId": "26dda441-b89f-4b11-dd31-0a8fe3f84e1d"
      },
      "source": [
        "# E = -sum_k{t_k * log(y_k)}    <-- the output of correct answer determines the entire value E\n",
        "def cross_entropy_error(y, k):\n",
        "    delta = 1e-7\n",
        "    return -np.sum(t * np.log(y + delta))   # each log value doesn't go infinite by adding delta\n",
        "\n",
        "t = [0, 0, 1, 0, 0, 0, 0, 0, 0, 0]\n",
        "y = [0.1, 0.05, 0.6, 0.0, 0.05, 0.1, 0.0, 0.1, 0.0, 0.0]\n",
        "print(cross_entropy_error(np.array(y), np.array(t)))\n",
        "\n",
        "y = [0.1, 0.05, 0.1, 0.0, 0.05, 0.1, 0.0, 0.6, 0.0, 0.0]\n",
        "print(cross_entropy_error(np.array(y), np.array(t)))"
      ],
      "execution_count": 5,
      "outputs": [
        {
          "output_type": "stream",
          "text": [
            "0.510825457099338\n",
            "2.302584092994546\n"
          ],
          "name": "stdout"
        }
      ]
    },
    {
      "cell_type": "markdown",
      "metadata": {
        "id": "EBrMdLkpr5GQ"
      },
      "source": [
        "### 4.2.3. 미니배치 학습 mini-batch training\n",
        "데이터가 많을 경우 데이터 일부만을 추려 전체의 '근사치'로 이용하는 방법."
      ]
    },
    {
      "cell_type": "code",
      "metadata": {
        "colab": {
          "base_uri": "https://localhost:8080/"
        },
        "id": "j1DQu7R7sfLO",
        "outputId": "c17b9d75-2507-476e-e8d2-8052873f59a2"
      },
      "source": [
        "import sys, os\n",
        "sys.path.append(\"/content/drive/MyDrive/coding/DLfS\")\n",
        "import numpy as np\n",
        "from dataset.mnist import load_mnist\n",
        "\n",
        "(x_train, t_train), (x_test, t_test) = \\\n",
        "load_mnist(normalize=True, one_hot_label=True)\n",
        "\n",
        "print(x_train.shape)\n",
        "print(t_train.shape)"
      ],
      "execution_count": 6,
      "outputs": [
        {
          "output_type": "stream",
          "text": [
            "(60000, 784)\n",
            "(60000, 10)\n"
          ],
          "name": "stdout"
        }
      ]
    },
    {
      "cell_type": "code",
      "metadata": {
        "id": "-rk4Dx3AtlIe"
      },
      "source": [
        "train_size = x_train.shape[0]\n",
        "batch_size = 10\n",
        "batch_mask = np.random.choice(train_size, batch_size)   # pick [batch_size] random numbers\n",
        "                                                        # under [train_size]\n",
        "x_batch = x_train[batch_mask]\n",
        "t_batch = t_train[batch_mask]"
      ],
      "execution_count": null,
      "outputs": []
    },
    {
      "cell_type": "code",
      "metadata": {
        "colab": {
          "base_uri": "https://localhost:8080/"
        },
        "id": "W2fdUq7IwnzN",
        "outputId": "9027168c-98e2-4351-b3ed-fe6a44583f39"
      },
      "source": [
        ""
      ],
      "execution_count": 9,
      "outputs": [
        {
          "output_type": "execute_result",
          "data": {
            "text/plain": [
              "array([0, 1, 2, 3, 4])"
            ]
          },
          "metadata": {
            "tags": []
          },
          "execution_count": 9
        }
      ]
    }
  ]
}